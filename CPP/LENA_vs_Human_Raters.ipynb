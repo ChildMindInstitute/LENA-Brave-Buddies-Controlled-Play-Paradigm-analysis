{
 "cells": [
  {
   "cell_type": "code",
   "execution_count": null,
   "metadata": {},
   "outputs": [],
   "source": [
    "import json\n",
    "import numpy as np\n",
    "import os\n",
    "import pandas as pd\n",
    "with open(\"file_paths.json\", \"r\") as fp:\n",
    "    filepaths = json.load(fp)\n",
    "sessions = {\n",
    "    \"A1\",\n",
    "    \"B\",\n",
    "    \"A2\",\n",
    "    \"C\",\n",
    "    \"A3\"\n",
    "}"
   ]
  },
  {
   "cell_type": "code",
   "execution_count": null,
   "metadata": {},
   "outputs": [],
   "source": [
    "LENA = pd.read_csv(\n",
    "    os.path.join(\n",
    "        filepaths[\"LENA\"],\n",
    "        \"CPP_data.csv\"\n",
    "    )\n",
    ")"
   ]
  },
  {
   "cell_type": "code",
   "execution_count": null,
   "metadata": {},
   "outputs": [],
   "source": [
    "ursis = {\n",
    "    ursi.replace(\n",
    "        \"M04\",\n",
    "        \"M004\"\n",
    "    ) for ursi in LENA[\"URSI\"].unique()\n",
    "}"
   ]
  },
  {
   "cell_type": "code",
   "execution_count": null,
   "metadata": {},
   "outputs": [],
   "source": [
    "humans = {\n",
    "    fp: {\n",
    "        \"ursi\": fp[:9],\n",
    "        **{sheetname: pd.read_excel(\n",
    "            os.path.join(\n",
    "                filepaths[\"humans\"],\n",
    "                fp\n",
    "            ),\n",
    "            sheet_name=sheetname\n",
    "        ) for sheetname in sessions}\n",
    "    } for fp in os.listdir(\n",
    "        filepaths[\"humans\"]\n",
    "    ) if fp[:9] in ursis\n",
    "}"
   ]
  },
  {
   "cell_type": "code",
   "execution_count": null,
   "metadata": {},
   "outputs": [],
   "source": [
    "pd.DataFrame({\n",
    "    (session, ursi, f): {\n",
    "        \"turn_count\": \"x\",\n",
    "        \"voc_count\": len(\n",
    "            [\n",
    "                v for v in humans[\n",
    "                    f\n",
    "                ][\n",
    "                    session\n",
    "                ][\n",
    "                    \"Child\"\n",
    "                ] if v not in {\n",
    "                    None,\n",
    "                    np.nan\n",
    "                }\n",
    "            ]\n",
    "        )\n",
    "    } for ursi in ursis for session in sessions for f in humans if f.startswith(ursi) \n",
    "}).T"
   ]
  },
  {
   "cell_type": "code",
   "execution_count": null,
   "metadata": {},
   "outputs": [],
   "source": [
    "LENA.groupby([\"Session\", \"URSI\"]).sum()[[\"Turn_Count\",\"Child_Voc_Count\"]]"
   ]
  },
  {
   "cell_type": "code",
   "execution_count": null,
   "metadata": {},
   "outputs": [],
   "source": []
  }
 ],
 "metadata": {
  "kernelspec": {
   "display_name": "Python 3",
   "language": "python",
   "name": "python3"
  },
  "language_info": {
   "codemirror_mode": {
    "name": "ipython",
    "version": 3
   },
   "file_extension": ".py",
   "mimetype": "text/x-python",
   "name": "python",
   "nbconvert_exporter": "python",
   "pygments_lexer": "ipython3",
   "version": "3.6.5"
  }
 },
 "nbformat": 4,
 "nbformat_minor": 2
}
